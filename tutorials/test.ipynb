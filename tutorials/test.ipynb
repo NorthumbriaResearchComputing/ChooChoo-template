{
 "cells": [
  {
   "cell_type": "markdown",
   "id": "stock-dance",
   "metadata": {},
   "source": [
    "Questions:\n",
    "- How can I create my own functions?\n",
    "\n",
    "Objectives:\n",
    "- Explain and identify the difference between function definition and function call.\n",
    "- Write a function that takes a small, fixed number of arguments and produces a single result.\n",
    "\n",
    "Keypoints:\n",
    "- Break programs down into functions to make them easier to understand.\n",
    "- Define a function using `def` with a name, parameters, and a block of code.\n",
    "- Defining a function does not run it.\n",
    "- Arguments in call are matched to parameters in definition.\n",
    "- Functions may return a result to their caller using `return`."
   ]
  } ]
}
